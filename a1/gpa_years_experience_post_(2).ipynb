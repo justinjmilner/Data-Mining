{
  "cells": [
    {
      "cell_type": "markdown",
      "metadata": {
        "id": "VaY-ZyJpBLyx"
      },
      "source": [
        "## Linear Regression from scratch\n",
        "\n",
        "The goal of this exercise is to implement the linear regression algorithm.\n",
        "The dataset is about predicting salary given gpa and years of experience.\n",
        "The steps to implement are as follows.  \n",
        "\n",
        "1.\tRead the data from a file (gpa_year_experience.csv)\n",
        "2.\tScale the attributes\n",
        "3.\tCompute the error at each iteration and save the error values in vector\n",
        "4.\tPlot the error vector as a curve in the end\n",
        "5.\tPredict a new instance.\n",
        "6.  Compare with SGDRegressor\n",
        "7.  Create polynomial features and predict new instance   "
      ]
    },
    {
      "cell_type": "code",
      "execution_count": 144,
      "metadata": {
        "id": "GJdbgeLVBLy-"
      },
      "outputs": [],
      "source": [
        "# import libraries\n",
        "import pandas as pd\n",
        "import numpy as np\n",
        "import matplotlib.pyplot as plt\n",
        "\n",
        "# ignore warnings\n",
        "import warnings\n",
        "warnings.filterwarnings('ignore')"
      ]
    },
    {
      "cell_type": "code",
      "execution_count": 145,
      "metadata": {
        "colab": {
          "base_uri": "https://localhost:8080/",
          "height": 206
        },
        "id": "ey300a0nBLy_",
        "outputId": "b97c88b7-1686-4b6f-d326-f41a19223e61"
      },
      "outputs": [
        {
          "output_type": "execute_result",
          "data": {
            "text/plain": [
              "   gpa  years_of_experience  salary\n",
              "0   70                  1.0      50\n",
              "1   80                  2.0      55\n",
              "2   65                  2.0      45\n",
              "3   70                  2.5      60\n",
              "4   65                  2.7      58"
            ],
            "text/html": [
              "\n",
              "  <div id=\"df-2b967df4-fa7b-4b6a-bef8-0d3255e2443d\" class=\"colab-df-container\">\n",
              "    <div>\n",
              "<style scoped>\n",
              "    .dataframe tbody tr th:only-of-type {\n",
              "        vertical-align: middle;\n",
              "    }\n",
              "\n",
              "    .dataframe tbody tr th {\n",
              "        vertical-align: top;\n",
              "    }\n",
              "\n",
              "    .dataframe thead th {\n",
              "        text-align: right;\n",
              "    }\n",
              "</style>\n",
              "<table border=\"1\" class=\"dataframe\">\n",
              "  <thead>\n",
              "    <tr style=\"text-align: right;\">\n",
              "      <th></th>\n",
              "      <th>gpa</th>\n",
              "      <th>years_of_experience</th>\n",
              "      <th>salary</th>\n",
              "    </tr>\n",
              "  </thead>\n",
              "  <tbody>\n",
              "    <tr>\n",
              "      <th>0</th>\n",
              "      <td>70</td>\n",
              "      <td>1.0</td>\n",
              "      <td>50</td>\n",
              "    </tr>\n",
              "    <tr>\n",
              "      <th>1</th>\n",
              "      <td>80</td>\n",
              "      <td>2.0</td>\n",
              "      <td>55</td>\n",
              "    </tr>\n",
              "    <tr>\n",
              "      <th>2</th>\n",
              "      <td>65</td>\n",
              "      <td>2.0</td>\n",
              "      <td>45</td>\n",
              "    </tr>\n",
              "    <tr>\n",
              "      <th>3</th>\n",
              "      <td>70</td>\n",
              "      <td>2.5</td>\n",
              "      <td>60</td>\n",
              "    </tr>\n",
              "    <tr>\n",
              "      <th>4</th>\n",
              "      <td>65</td>\n",
              "      <td>2.7</td>\n",
              "      <td>58</td>\n",
              "    </tr>\n",
              "  </tbody>\n",
              "</table>\n",
              "</div>\n",
              "    <div class=\"colab-df-buttons\">\n",
              "\n",
              "  <div class=\"colab-df-container\">\n",
              "    <button class=\"colab-df-convert\" onclick=\"convertToInteractive('df-2b967df4-fa7b-4b6a-bef8-0d3255e2443d')\"\n",
              "            title=\"Convert this dataframe to an interactive table.\"\n",
              "            style=\"display:none;\">\n",
              "\n",
              "  <svg xmlns=\"http://www.w3.org/2000/svg\" height=\"24px\" viewBox=\"0 -960 960 960\">\n",
              "    <path d=\"M120-120v-720h720v720H120Zm60-500h600v-160H180v160Zm220 220h160v-160H400v160Zm0 220h160v-160H400v160ZM180-400h160v-160H180v160Zm440 0h160v-160H620v160ZM180-180h160v-160H180v160Zm440 0h160v-160H620v160Z\"/>\n",
              "  </svg>\n",
              "    </button>\n",
              "\n",
              "  <style>\n",
              "    .colab-df-container {\n",
              "      display:flex;\n",
              "      gap: 12px;\n",
              "    }\n",
              "\n",
              "    .colab-df-convert {\n",
              "      background-color: #E8F0FE;\n",
              "      border: none;\n",
              "      border-radius: 50%;\n",
              "      cursor: pointer;\n",
              "      display: none;\n",
              "      fill: #1967D2;\n",
              "      height: 32px;\n",
              "      padding: 0 0 0 0;\n",
              "      width: 32px;\n",
              "    }\n",
              "\n",
              "    .colab-df-convert:hover {\n",
              "      background-color: #E2EBFA;\n",
              "      box-shadow: 0px 1px 2px rgba(60, 64, 67, 0.3), 0px 1px 3px 1px rgba(60, 64, 67, 0.15);\n",
              "      fill: #174EA6;\n",
              "    }\n",
              "\n",
              "    .colab-df-buttons div {\n",
              "      margin-bottom: 4px;\n",
              "    }\n",
              "\n",
              "    [theme=dark] .colab-df-convert {\n",
              "      background-color: #3B4455;\n",
              "      fill: #D2E3FC;\n",
              "    }\n",
              "\n",
              "    [theme=dark] .colab-df-convert:hover {\n",
              "      background-color: #434B5C;\n",
              "      box-shadow: 0px 1px 3px 1px rgba(0, 0, 0, 0.15);\n",
              "      filter: drop-shadow(0px 1px 2px rgba(0, 0, 0, 0.3));\n",
              "      fill: #FFFFFF;\n",
              "    }\n",
              "  </style>\n",
              "\n",
              "    <script>\n",
              "      const buttonEl =\n",
              "        document.querySelector('#df-2b967df4-fa7b-4b6a-bef8-0d3255e2443d button.colab-df-convert');\n",
              "      buttonEl.style.display =\n",
              "        google.colab.kernel.accessAllowed ? 'block' : 'none';\n",
              "\n",
              "      async function convertToInteractive(key) {\n",
              "        const element = document.querySelector('#df-2b967df4-fa7b-4b6a-bef8-0d3255e2443d');\n",
              "        const dataTable =\n",
              "          await google.colab.kernel.invokeFunction('convertToInteractive',\n",
              "                                                    [key], {});\n",
              "        if (!dataTable) return;\n",
              "\n",
              "        const docLinkHtml = 'Like what you see? Visit the ' +\n",
              "          '<a target=\"_blank\" href=https://colab.research.google.com/notebooks/data_table.ipynb>data table notebook</a>'\n",
              "          + ' to learn more about interactive tables.';\n",
              "        element.innerHTML = '';\n",
              "        dataTable['output_type'] = 'display_data';\n",
              "        await google.colab.output.renderOutput(dataTable, element);\n",
              "        const docLink = document.createElement('div');\n",
              "        docLink.innerHTML = docLinkHtml;\n",
              "        element.appendChild(docLink);\n",
              "      }\n",
              "    </script>\n",
              "  </div>\n",
              "\n",
              "\n",
              "<div id=\"df-7142d098-b724-4d49-bb4d-28c4c3e5effd\">\n",
              "  <button class=\"colab-df-quickchart\" onclick=\"quickchart('df-7142d098-b724-4d49-bb4d-28c4c3e5effd')\"\n",
              "            title=\"Suggest charts\"\n",
              "            style=\"display:none;\">\n",
              "\n",
              "<svg xmlns=\"http://www.w3.org/2000/svg\" height=\"24px\"viewBox=\"0 0 24 24\"\n",
              "     width=\"24px\">\n",
              "    <g>\n",
              "        <path d=\"M19 3H5c-1.1 0-2 .9-2 2v14c0 1.1.9 2 2 2h14c1.1 0 2-.9 2-2V5c0-1.1-.9-2-2-2zM9 17H7v-7h2v7zm4 0h-2V7h2v10zm4 0h-2v-4h2v4z\"/>\n",
              "    </g>\n",
              "</svg>\n",
              "  </button>\n",
              "\n",
              "<style>\n",
              "  .colab-df-quickchart {\n",
              "      --bg-color: #E8F0FE;\n",
              "      --fill-color: #1967D2;\n",
              "      --hover-bg-color: #E2EBFA;\n",
              "      --hover-fill-color: #174EA6;\n",
              "      --disabled-fill-color: #AAA;\n",
              "      --disabled-bg-color: #DDD;\n",
              "  }\n",
              "\n",
              "  [theme=dark] .colab-df-quickchart {\n",
              "      --bg-color: #3B4455;\n",
              "      --fill-color: #D2E3FC;\n",
              "      --hover-bg-color: #434B5C;\n",
              "      --hover-fill-color: #FFFFFF;\n",
              "      --disabled-bg-color: #3B4455;\n",
              "      --disabled-fill-color: #666;\n",
              "  }\n",
              "\n",
              "  .colab-df-quickchart {\n",
              "    background-color: var(--bg-color);\n",
              "    border: none;\n",
              "    border-radius: 50%;\n",
              "    cursor: pointer;\n",
              "    display: none;\n",
              "    fill: var(--fill-color);\n",
              "    height: 32px;\n",
              "    padding: 0;\n",
              "    width: 32px;\n",
              "  }\n",
              "\n",
              "  .colab-df-quickchart:hover {\n",
              "    background-color: var(--hover-bg-color);\n",
              "    box-shadow: 0 1px 2px rgba(60, 64, 67, 0.3), 0 1px 3px 1px rgba(60, 64, 67, 0.15);\n",
              "    fill: var(--button-hover-fill-color);\n",
              "  }\n",
              "\n",
              "  .colab-df-quickchart-complete:disabled,\n",
              "  .colab-df-quickchart-complete:disabled:hover {\n",
              "    background-color: var(--disabled-bg-color);\n",
              "    fill: var(--disabled-fill-color);\n",
              "    box-shadow: none;\n",
              "  }\n",
              "\n",
              "  .colab-df-spinner {\n",
              "    border: 2px solid var(--fill-color);\n",
              "    border-color: transparent;\n",
              "    border-bottom-color: var(--fill-color);\n",
              "    animation:\n",
              "      spin 1s steps(1) infinite;\n",
              "  }\n",
              "\n",
              "  @keyframes spin {\n",
              "    0% {\n",
              "      border-color: transparent;\n",
              "      border-bottom-color: var(--fill-color);\n",
              "      border-left-color: var(--fill-color);\n",
              "    }\n",
              "    20% {\n",
              "      border-color: transparent;\n",
              "      border-left-color: var(--fill-color);\n",
              "      border-top-color: var(--fill-color);\n",
              "    }\n",
              "    30% {\n",
              "      border-color: transparent;\n",
              "      border-left-color: var(--fill-color);\n",
              "      border-top-color: var(--fill-color);\n",
              "      border-right-color: var(--fill-color);\n",
              "    }\n",
              "    40% {\n",
              "      border-color: transparent;\n",
              "      border-right-color: var(--fill-color);\n",
              "      border-top-color: var(--fill-color);\n",
              "    }\n",
              "    60% {\n",
              "      border-color: transparent;\n",
              "      border-right-color: var(--fill-color);\n",
              "    }\n",
              "    80% {\n",
              "      border-color: transparent;\n",
              "      border-right-color: var(--fill-color);\n",
              "      border-bottom-color: var(--fill-color);\n",
              "    }\n",
              "    90% {\n",
              "      border-color: transparent;\n",
              "      border-bottom-color: var(--fill-color);\n",
              "    }\n",
              "  }\n",
              "</style>\n",
              "\n",
              "  <script>\n",
              "    async function quickchart(key) {\n",
              "      const quickchartButtonEl =\n",
              "        document.querySelector('#' + key + ' button');\n",
              "      quickchartButtonEl.disabled = true;  // To prevent multiple clicks.\n",
              "      quickchartButtonEl.classList.add('colab-df-spinner');\n",
              "      try {\n",
              "        const charts = await google.colab.kernel.invokeFunction(\n",
              "            'suggestCharts', [key], {});\n",
              "      } catch (error) {\n",
              "        console.error('Error during call to suggestCharts:', error);\n",
              "      }\n",
              "      quickchartButtonEl.classList.remove('colab-df-spinner');\n",
              "      quickchartButtonEl.classList.add('colab-df-quickchart-complete');\n",
              "    }\n",
              "    (() => {\n",
              "      let quickchartButtonEl =\n",
              "        document.querySelector('#df-7142d098-b724-4d49-bb4d-28c4c3e5effd button');\n",
              "      quickchartButtonEl.style.display =\n",
              "        google.colab.kernel.accessAllowed ? 'block' : 'none';\n",
              "    })();\n",
              "  </script>\n",
              "</div>\n",
              "\n",
              "    </div>\n",
              "  </div>\n"
            ]
          },
          "metadata": {},
          "execution_count": 145
        }
      ],
      "source": [
        "# load data and show first 5 rows\n",
        "data = pd.read_csv('https://raw.githubusercontent.com/thomouvic/SENG474/main/data/gpa_years_experience.csv')\n",
        "data.head()"
      ]
    },
    {
      "cell_type": "code",
      "execution_count": 146,
      "metadata": {
        "id": "eTNRlWV_BLy_"
      },
      "outputs": [],
      "source": [
        "# prepare data, split columns into X and y\n",
        "# X should be a numpy array of shape (m, n), use .values to convert from dataframe to numpy array\n",
        "# y should be a numpy array of shape (m,), use .values to convert from dataframe to numpy array\n",
        "X = data[['gpa', 'years_of_experience']].values\n",
        "y = data['salary'].values"
      ]
    },
    {
      "cell_type": "code",
      "execution_count": 147,
      "metadata": {
        "colab": {
          "base_uri": "https://localhost:8080/"
        },
        "id": "7R7dYUIyBLy_",
        "outputId": "32381cb4-4fd7-44cd-d42b-cea8a6dbfccc"
      },
      "outputs": [
        {
          "output_type": "execute_result",
          "data": {
            "text/plain": [
              "(25, 2)"
            ]
          },
          "metadata": {},
          "execution_count": 147
        }
      ],
      "source": [
        "# extract m and n from X using X.shape[0] to get m and X.shape[1] to get n\n",
        "m = X.shape[0]\n",
        "n = X.shape[1]\n",
        "m, n"
      ]
    },
    {
      "cell_type": "code",
      "execution_count": 148,
      "metadata": {
        "id": "g8RIRXBOBLzA"
      },
      "outputs": [],
      "source": [
        "# y should be a numpy array of shape (m, 1), use reshape(m, 1) to reshape y from (m,) to (m, 1)\n",
        "y = y.reshape(-1, 1)"
      ]
    },
    {
      "cell_type": "code",
      "execution_count": 149,
      "metadata": {
        "id": "L-C_HJZZBLzA"
      },
      "outputs": [],
      "source": [
        "# normalize X using min-max scaler (sklearn.preprocessing.MinMaxScaler)\n",
        "from sklearn.preprocessing import MinMaxScaler\n",
        "scaler = MinMaxScaler()\n",
        "X_normalized = scaler.fit_transform(X)"
      ]
    },
    {
      "cell_type": "code",
      "execution_count": 150,
      "metadata": {
        "id": "ug5zKjfKBLzA"
      },
      "outputs": [],
      "source": [
        "# add dummy feature to X using scikit-learn dummy feature (sklearn.preprocessing.add_dummy_feature)\n",
        "from sklearn.preprocessing import add_dummy_feature\n",
        "X = add_dummy_feature(X_normalized)"
      ]
    },
    {
      "cell_type": "code",
      "execution_count": 151,
      "metadata": {
        "colab": {
          "base_uri": "https://localhost:8080/"
        },
        "id": "YDCwrAErBLzA",
        "outputId": "078fb5cc-098f-4158-d3ac-a3515cd7216a"
      },
      "outputs": [
        {
          "output_type": "execute_result",
          "data": {
            "text/plain": [
              "((25, 3), (25, 1))"
            ]
          },
          "metadata": {},
          "execution_count": 151
        }
      ],
      "source": [
        "# print shapes of X and y\n",
        "# X should be (m, n+1) and y should be (m, 1)\n",
        "X.shape, y.shape"
      ]
    },
    {
      "cell_type": "code",
      "execution_count": 156,
      "metadata": {
        "colab": {
          "base_uri": "https://localhost:8080/",
          "height": 543
        },
        "id": "nKfVal5JBLzA",
        "outputId": "f0d810bb-9742-4aae-9a61-3a4b165c0e1d"
      },
      "outputs": [
        {
          "output_type": "display_data",
          "data": {
            "text/plain": [
              "<Figure size 640x480 with 1 Axes>"
            ],
            "image/png": "[encoded data removed]"
          },
          "metadata": {}
        },
        {
          "output_type": "stream",
          "name": "stdout",
          "text": [
            "Final theta:\n",
            "[[37.20536484]\n",
            " [18.41593008]\n",
            " [21.12027021]]\n"
          ]
        }
      ],
      "source": [
        "m = len(y)\n",
        "eta = 0.1 # learning rate\n",
        "n_epochs = 10\n",
        "np.random.seed(42) # set random seed to 42 for reproducibility\n",
        "\n",
        "# Hypothesis function\n",
        "def h(theta, x):\n",
        "  return x @ theta\n",
        "\n",
        "# Gradient function\n",
        "def G(theta):\n",
        "  return 1/m * X.T @ (h(theta,X) - y)\n",
        "\n",
        "# Cost function\n",
        "def J(theta):\n",
        "  return 1/(2*m) * np.sum((h(theta, X) - y)**2)\n",
        "\n",
        "# create theta, of shape (n+1, 1) and initialize it to random values using np.random.randn\n",
        "theta = np.random.randn(X.shape[1], 1)\n",
        "E = [J(theta)] # list to store errors at each epoch\n",
        "\n",
        "# compute error for initial theta and append to E\n",
        "initial_error = J(theta)\n",
        "E.append(initial_error)\n",
        "\n",
        "# loop over n_epochs\n",
        "# for each epoch: compute gradients, update theta, compute error, append error to E\n",
        "for epoch in range(n_epochs):\n",
        "  theta -= eta * G(theta)\n",
        "  E.append( J(theta) )\n",
        "\n",
        "# plot error vs epoch\n",
        "plt.plot(E)\n",
        "plt.xlabel('Epoch')\n",
        "plt.ylabel('Mean Squared Error')\n",
        "plt.title('Error vs. Epoch')\n",
        "plt.show()\n",
        "\n",
        "# print final theta\n",
        "print(f'Final theta:\\n{theta}')"
      ]
    },
    {
      "cell_type": "code",
      "execution_count": 157,
      "metadata": {
        "id": "c_pdWaHhBLzA",
        "colab": {
          "base_uri": "https://localhost:8080/"
        },
        "outputId": "6b8a2396-3b27-4bd8-b895-e7c93063e70a"
      },
      "outputs": [
        {
          "output_type": "stream",
          "name": "stdout",
          "text": [
            "[[48.24041055]]\n"
          ]
        }
      ],
      "source": [
        "# let's predict the salary for a person who has gpa=70 and years_of_experience=3.\n",
        "# create a numpy array x of shape (1, 2) with these values\n",
        "\n",
        "# scale features using the same scaler we used earlier\n",
        "# insert dummy feature using dummy feature function\n",
        "# Predict salary of x\n",
        "x = np.array([[70,3]])\n",
        "x_normalized = scaler.transform(x)\n",
        "x_with_bias = add_dummy_feature(x_normalized)\n",
        "predicted_salary = x_with_bias.dot(theta)\n",
        "print(predicted_salary)"
      ]
    },
    {
      "cell_type": "code",
      "execution_count": 158,
      "metadata": {
        "id": "PxhwBQEsBLzA"
      },
      "outputs": [],
      "source": [
        "# Let's compare with scikit-learn's SGDRegressor\n",
        "# use SGDRegressor from scikit-learn to fit the data\n",
        "# use max_iter=1000, eta0=0.1, random_state=42\n",
        "from sklearn.linear_model import SGDRegressor\n",
        "\n",
        "sgd_reg = SGDRegressor(max_iter=1000, eta0=0.1, random_state=42)\n",
        "sgd_reg.fit(X, y.ravel())\n",
        "x_new_normalized = scaler.transform(np.array([[70, 3]]))\n"
      ]
    },
    {
      "cell_type": "code",
      "execution_count": 159,
      "metadata": {
        "id": "EtT3X4xWBLzA",
        "colab": {
          "base_uri": "https://localhost:8080/"
        },
        "outputId": "d7b160f1-c33d-4f91-a0e7-80c34b3de528"
      },
      "outputs": [
        {
          "output_type": "execute_result",
          "data": {
            "text/plain": [
              "array([59.44433847])"
            ]
          },
          "metadata": {},
          "execution_count": 159
        }
      ],
      "source": [
        "# predict salary of x using sgd\n",
        "x_new_with_bias = add_dummy_feature(x_new_normalized)\n",
        "predicted_salary = sgd_reg.predict(x_new_with_bias)\n",
        "predicted_salary"
      ]
    },
    {
      "cell_type": "code",
      "execution_count": 160,
      "metadata": {
        "id": "3G5q7pZXBLzA",
        "colab": {
          "base_uri": "https://localhost:8080/"
        },
        "outputId": "db952c84-a76c-4cec-ac86-bf5fce02f6ba"
      },
      "outputs": [
        {
          "output_type": "execute_result",
          "data": {
            "text/plain": [
              "array([59.78935119])"
            ]
          },
          "metadata": {},
          "execution_count": 160
        }
      ],
      "source": [
        "# create polynomial features of degree 2 using scikit-learn PolynomialFeatures\n",
        "# create X_poly using fit_transform\n",
        "# create x_poly using transform\n",
        "# fit the data using SGDRegressor\n",
        "# predict salary of x using sgd\n",
        "from sklearn.preprocessing import PolynomialFeatures\n",
        "poly_features = PolynomialFeatures(degree=2)\n",
        "X_poly = poly_features.fit_transform(X_normalized)\n",
        "sgd_reg.fit(X_poly, y.ravel())\n",
        "x_new_poly = poly_features.transform(x_new_normalized)\n",
        "predicted_salary_poly = sgd_reg.predict(x_new_poly)\n",
        "predicted_salary_poly"
      ]
    }
  ],
  "metadata": {
    "kernelspec": {
      "display_name": "Python 3",
      "language": "python",
      "name": "python3"
    },
    "language_info": {
      "codemirror_mode": {
        "name": "ipython",
        "version": 3
      },
      "file_extension": ".py",
      "mimetype": "text/x-python",
      "name": "python",
      "nbconvert_exporter": "python",
      "pygments_lexer": "ipython3",
      "version": "3.9.13"
    },
    "colab": {
      "provenance": []
    }
  },
  "nbformat": 4,
  "nbformat_minor": 0
}